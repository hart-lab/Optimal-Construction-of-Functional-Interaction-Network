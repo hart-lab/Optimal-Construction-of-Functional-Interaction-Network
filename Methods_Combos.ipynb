{
 "cells": [
  {
   "cell_type": "code",
   "execution_count": null,
   "id": "silver-scottish",
   "metadata": {},
   "outputs": [],
   "source": [
    "import pandas as pd\n",
    "import numpy as np\n",
    "import cupy as cp\n",
    "from scipy.special import stdtr\n",
    "from sklearn.decomposition import PCA\n"
   ]
  },
  {
   "cell_type": "code",
   "execution_count": null,
   "id": "concrete-gather",
   "metadata": {},
   "outputs": [],
   "source": [
    "def qnorm_dataframe( data ):\n",
    "    \"\"\"\n",
    "    quantile normalize a dataframe with numeric values only!\n",
    "    Normalizes to rank mean\n",
    "    Does not deal with ties\n",
    "    \"\"\"\n",
    "    rank_mean = data.stack().groupby(data.rank(method='first').stack().astype(int)).mean()\n",
    "    qnormed_data    = data.rank(method='min').stack().astype(int).map(rank_mean).unstack()\n",
    "    return qnormed_data\n",
    "\n",
    "\n",
    "def ut_as_list( dframe, diag=1, cols=['Row','Column','Value'] ):\n",
    "  \"\"\"\n",
    "  for a symmetric dataframe, where cols=rows, get the upper triangle as a list of row/column pairs\n",
    "  diag = 1 (default): ignore diagonal\n",
    "  diag = 0: include diagonal\n",
    "  \"\"\"\n",
    "  #if (dframe.index.name == dframe.columns.name):\n",
    "  dframe.index.name = cols[0]\n",
    "  dframe.columns.name = cols[1]\n",
    "  #             dframe.index.name = dframe.index.name + '.1'\n",
    "  #             dframe.index.name = dframe.index.name + '.2'\n",
    "  d = dframe.where( np.triu( np.ones( dframe.shape ), k=diag).astype(bool))\n",
    "  d = d.stack().reset_index()\n",
    "  d.columns=cols\n",
    "  return d\n",
    "\n",
    "def is_pos_def(x):\n",
    "    return np.all(np.linalg.eigvals(x) > 0)\n",
    "\n",
    "def PCA_whitening(X):\n",
    "    centered_X = X - np.mean(X, axis = 0)\n",
    "    cov = np.cov(centered_X.T)\n",
    "    # Calculate the eigenvalues and eigenvectors of the covariance matrix\n",
    "    eigVals, eigVecs = np.linalg.eig(cov)\n",
    "    # Apply the eigenvectors to X\n",
    "    transf_x = centered_X @ eigVecs\n",
    "    whitened_x = transf_x / np.sqrt(eigVals + 1e-5)\n",
    "    return whitened_x\n",
    "\n",
    "def cholesky_whitening(df):\n",
    "    cholsigmainv = np.linalg.cholesky(np.linalg.pinv(np.cov(df.T)))\n",
    "    warped_screens = df.values @ cholsigmainv\n",
    "    df_chol = pd.DataFrame(warped_screens,index=df.index.values,columns=df.columns.values)\n",
    "    return df_chol"
   ]
  },
  {
   "cell_type": "code",
   "execution_count": null,
   "id": "commercial-commons",
   "metadata": {},
   "outputs": [],
   "source": [
    "# Z-scores\n",
    "data=pd.read_csv('Zscores_dataframe.csv',header=0,index_col=0)\n",
    "print(data.shape)\n",
    "\n",
    "# Bayes Factors\n",
    "# data=pd.read_csv('BF_dataframe.csv',header=0,index_col=0)\n",
    "# print(data.shape)\n",
    "\n",
    "# Ceres\n",
    "# data= pd.read_csv('Ceres_dataframe.csv',header=0,index_col=0)\n",
    "# print(data.shape)\n",
    "\n",
    "# Chronos\n",
    "# data= pd.read_csv('Chronos_dataframe.csv',header=0,index_col=0)\n",
    "# print(data.shape)\n"
   ]
  },
  {
   "cell_type": "code",
   "execution_count": null,
   "id": "designed-europe",
   "metadata": {},
   "outputs": [],
   "source": [
    "print(np.any(np.isnan(data)))\n",
    "print(is_pos_def(np.cov(data.T)))"
   ]
  },
  {
   "cell_type": "code",
   "execution_count": null,
   "id": "mediterranean-relay",
   "metadata": {},
   "outputs": [],
   "source": [
    "# Quantile Normalization\n",
    "\n",
    "data = qnorm_dataframe( data )"
   ]
  },
  {
   "cell_type": "code",
   "execution_count": null,
   "id": "based-planning",
   "metadata": {},
   "outputs": [],
   "source": [
    "# Boyle PCA\n",
    "\n",
    "olfactory_genes = pd.read_csv('olfactory_genes.txt', header=None, squeeze=True)\n",
    "olfactory_data = data.reindex(olfactory_genes).dropna()\n",
    "\n",
    "transformation = PCA(n_components=4)\n",
    "transformation.fit(olfactory_data)\n",
    "\n",
    "top_PC_effects = transformation.inverse_transform(transformation.transform(data))\n",
    "\n",
    "data -= top_PC_effects\n",
    "data = data.iloc[:, :-4]"
   ]
  },
  {
   "cell_type": "code",
   "execution_count": null,
   "id": "graduate-transsexual",
   "metadata": {},
   "outputs": [],
   "source": [
    "# Whitening Covariance Transformation\n",
    "\n",
    "data=PCA_whitening(data)"
   ]
  },
  {
   "cell_type": "code",
   "execution_count": null,
   "id": "formed-insured",
   "metadata": {},
   "outputs": [],
   "source": [
    "# Cholesky Covariance Transformation\n",
    "\n",
    "data=cholesky_whitening(data)"
   ]
  },
  {
   "cell_type": "code",
   "execution_count": null,
   "id": "recognized-inflation",
   "metadata": {},
   "outputs": [],
   "source": [
    "# # GLS  *as in Wainberg et al, 2021 paper\n",
    "# # with Cholesky\n",
    "\n",
    "# cholsigmainv = np.linalg.cholesky(np.linalg.pinv(np.cov(data.T)))\n",
    "# warped_screens = data.values @ cholsigmainv\n",
    "# warped_intercept = cholsigmainv.sum(axis=0)\n",
    "\n",
    "# GLS_coef = np.empty((len(warped_screens), len(warped_screens)))\n",
    "# GLS_se = np.empty((len(warped_screens), len(warped_screens)))\n",
    "# ys = np.array(warped_screens.T)\n",
    "\n",
    "# start=timer()\n",
    "# for gene_index in range(len(warped_screens)):\n",
    "        \n",
    "#     X = np.stack((warped_intercept,warped_screens[gene_index]), axis=1)\n",
    "        \n",
    "#     coef, residues = np.linalg.lstsq(X, ys, rcond=None)[:2]\n",
    "        \n",
    "#     df = warped_screens.shape[1] - 2\n",
    "        \n",
    "#     GLS_coef[gene_index] = coef[1]\n",
    "        \n",
    "#     GLS_se[gene_index] = \\\n",
    "#         np.sqrt(np.linalg.pinv(X.T @ X)[1, 1] * residues / df)\n",
    "    \n",
    "# time1=timer()-start\n",
    "# print(time1)\n",
    "\n",
    "\n",
    "# df = warped_screens.shape[1] - 2\n",
    "\n",
    "# GLS_p = 2 * stdtr(df, -np.abs(GLS_coef / GLS_se))\n",
    "\n",
    "# np.fill_diagonal(GLS_p, 1)\n",
    "\n",
    "# GLS_logp=np.negative(np.log10(GLS_p))\n",
    "\n",
    "# GLS_logp_df = pd.DataFrame(GLS_logp , index=data.index.values, columns=data.index.values)\n"
   ]
  },
  {
   "cell_type": "code",
   "execution_count": null,
   "id": "final-nerve",
   "metadata": {},
   "outputs": [],
   "source": [
    "# OLS \n",
    "\n",
    "screen=data.values\n",
    "intercept=np.ones(screen.shape[1],dtype=int)\n",
    "\n",
    "GLS_coef = np.empty((len(screen), len(screen)))\n",
    "GLS_se = np.empty((len(screen), len(screen)))\n",
    "ys = np.array(screen.T)\n",
    "\n",
    "start=timer()\n",
    "for gene_index in range(len(screen)):\n",
    "        \n",
    "    X = np.stack((intercept,screen[gene_index]), axis=1)\n",
    "        \n",
    "    coef, residues = np.linalg.lstsq(X, ys, rcond=None)[:2]\n",
    "        \n",
    "    df = screen.shape[1] - 2\n",
    "        \n",
    "    GLS_coef[gene_index] = coef[1]\n",
    "        \n",
    "    GLS_se[gene_index] = \\\n",
    "        np.sqrt(np.linalg.pinv(X.T @ X)[1, 1] * residues / df)\n",
    "    \n",
    "time1=timer()-start\n",
    "print(time1)\n",
    "\n",
    "df = screen.shape[1] - 2\n",
    "\n",
    "GLS_p = 2 * stdtr(df, -np.abs(GLS_coef / GLS_se))\n",
    "\n",
    "np.fill_diagonal(GLS_p, 1)\n",
    "\n",
    "GLS_logp=np.negative(np.log10(GLS_p))\n",
    "\n",
    "GLS_logp_df = pd.DataFrame(GLS_logp , index=data.index.values, columns=data.index.values)"
   ]
  },
  {
   "cell_type": "code",
   "execution_count": null,
   "id": "realistic-evening",
   "metadata": {},
   "outputs": [],
   "source": [
    "# Create OLS Pairs\n",
    "\n",
    "OLS_pairs = ut_as_list(GLS_logp_df, diag=1, cols=['Gene1','Gene2','OLS logP'] ).sort_values('OLS logP', ascending=False).head(100000) \n"
   ]
  },
  {
   "cell_type": "code",
   "execution_count": null,
   "id": "champion-latitude",
   "metadata": {},
   "outputs": [],
   "source": [
    "# PCC \n",
    "\n",
    "# #  Correlation matrix\n",
    "Corr_df = pd.DataFrame( np.corrcoef(data.values) , index=data.index.values, columns=data.index.values)\n",
    "\n",
    "# # Create PCC Pairs\n",
    "PCC_pairs = ut_as_list(Corr_df,cols=['Gene1','Gene2','PCC']).sort_values(by='PCC',key=abs, ascending=False).head(100000)"
   ]
  },
  {
   "cell_type": "code",
   "execution_count": null,
   "id": "cultural-simpson",
   "metadata": {},
   "outputs": [],
   "source": [
    "# Save Pairs\n",
    "\n",
    "# PCC_pairs.to_csv(r'',index=False)\n",
    "\n",
    "# OLS_pairs.to_csv(r'',index=False)\n",
    "\n"
   ]
  }
 ],
 "metadata": {
  "kernelspec": {
   "display_name": "Python 3",
   "language": "python",
   "name": "python3"
  },
  "language_info": {
   "codemirror_mode": {
    "name": "ipython",
    "version": 3
   },
   "file_extension": ".py",
   "mimetype": "text/x-python",
   "name": "python",
   "nbconvert_exporter": "python",
   "pygments_lexer": "ipython3",
   "version": "3.8.10"
  }
 },
 "nbformat": 4,
 "nbformat_minor": 5
}

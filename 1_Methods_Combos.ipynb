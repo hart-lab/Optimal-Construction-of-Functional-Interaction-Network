{
 "cells": [
  {
   "cell_type": "markdown",
   "id": "judicial-italian",
   "metadata": {},
   "source": [
    "In this notebook, a network can be created with gene pairs ranked by either PCC or OLS P-values, pre-processed with different combinations of techniques.\n",
    "\n",
    "To start, choose desired essentiality scoring method and load the respective data file. Data files can be downloaded from: https://doi.org/10.6084/m9.figshare.21379761\n",
    "\n",
    "The dataframe can then be processed with choices of variance and covariance normalization techniques. \n",
    "\n",
    "To measure similarity of gene vectors, Pearson's correlation or Least squares methods are provided. \n",
    "\n",
    "Note: The combination Boyle et al. variance norm + Cholesky covariance norm + OLS constitutes the method used in Wainberg et al. 2021 paper. The olfactory genes file (\"olfactory_genes.txt\") necessary for the Boyle method can be downloaded at: https://github.com/kundajelab/coessentiality\n"
   ]
  },
  {
   "cell_type": "markdown",
   "id": "abroad-butler",
   "metadata": {},
   "source": [
    "Import packages and load functions:"
   ]
  },
  {
   "cell_type": "code",
   "execution_count": null,
   "id": "silver-scottish",
   "metadata": {},
   "outputs": [],
   "source": [
    "import pandas as pd\n",
    "import numpy as np\n",
    "from scipy.special import stdtr\n",
    "from sklearn.decomposition import PCA"
   ]
  },
  {
   "cell_type": "code",
   "execution_count": null,
   "id": "concrete-gather",
   "metadata": {},
   "outputs": [],
   "source": [
    "# Variance normalization using quantile normalization\n",
    "def qnorm_dataframe( data ):\n",
    "    \"\"\"\n",
    "    quantile normalize a dataframe with numeric values only!\n",
    "    Normalizes to rank mean\n",
    "    Does not deal with ties\n",
    "    \"\"\"\n",
    "    rank_mean = data.stack().groupby(data.rank(method='first').stack().astype(int)).mean()\n",
    "    qnormed_data    = data.rank(method='min').stack().astype(int).map(rank_mean).unstack()\n",
    "    return qnormed_data\n",
    "\n",
    "# Covariance normalization using PCA whitening transformation\n",
    "def PCA_whitening(X):\n",
    "    centered_X = X - np.mean(X, axis = 0)\n",
    "    cov = np.cov(centered_X.T)\n",
    "    # Calculate the eigenvalues and eigenvectors of the covariance matrix\n",
    "    eigVals, eigVecs = np.linalg.eig(cov)\n",
    "    # Apply the eigenvectors to X\n",
    "    transf_x = centered_X @ eigVecs\n",
    "    whitened_x = transf_x / np.sqrt(eigVals + 1e-5)\n",
    "    return whitened_x\n",
    "\n",
    "# Covariance normalization using Cholesky decomposition, as described in Wainberg et al. 2021 paper\n",
    "def cholesky_whitening(df):\n",
    "    cholsigmainv = np.linalg.cholesky(np.linalg.pinv(np.cov(df.T)))\n",
    "    warped_screens = df.values @ cholsigmainv\n",
    "    df_chol = pd.DataFrame(warped_screens,index=df.index.values,columns=df.columns.values)\n",
    "    return df_chol\n",
    "\n",
    "# Create list of pairs and their edge value\n",
    "def ut_as_list( dframe, diag=1, cols=['Row','Column','Value'] ):\n",
    "  \"\"\"\n",
    "  for a symmetric dataframe, where cols=rows, get the upper triangle as a list of row/column pairs\n",
    "  diag = 1 (default): ignore diagonal\n",
    "  diag = 0: include diagonal\n",
    "  \"\"\"\n",
    "  #if (dframe.index.name == dframe.columns.name):\n",
    "  dframe.index.name = cols[0]\n",
    "  dframe.columns.name = cols[1]\n",
    "  #             dframe.index.name = dframe.index.name + '.1'\n",
    "  #             dframe.index.name = dframe.index.name + '.2'\n",
    "  d = dframe.where( np.triu( np.ones( dframe.shape ), k=diag).astype(bool))\n",
    "  d = d.stack().reset_index()\n",
    "  d.columns=cols\n",
    "  return d\n",
    "\n",
    "# Check if a matrix is positive definite (required for Cholesky covariance normalization) \n",
    "def is_pos_def(x):\n",
    "    return np.all(np.linalg.eigvals(x) > 0)"
   ]
  },
  {
   "cell_type": "markdown",
   "id": "surgical-release",
   "metadata": {},
   "source": [
    "Data files can be downloaded from:  https://doi.org/10.6084/m9.figshare.21379761\n",
    "\n",
    "Choose one gene-by-cell lines matrix of essentiality scores and import data\n",
    "\n",
    "*The data matrices have been pre-processed to include only the genes and cell lines that are common between them."
   ]
  },
  {
   "cell_type": "code",
   "execution_count": null,
   "id": "commercial-commons",
   "metadata": {},
   "outputs": [],
   "source": [
    "### Z-scores matrix \n",
    "# data=pd.read_csv('Zscores_dataframe.csv',header=0,index_col=0)\n",
    "\n",
    "### Bayes Factors matrix\n",
    "# data=pd.read_csv('BF_dataframe.csv',header=0,index_col=0)\n",
    "\n",
    "### Ceres scores matrix\n",
    "data= pd.read_csv('Ceres_dataframe.csv',header=0,index_col=0)\n",
    "\n",
    "### Chronos scores matrix\n",
    "# data= pd.read_csv('Chronos_dataframe.csv',header=0,index_col=0)"
   ]
  },
  {
   "cell_type": "markdown",
   "id": "desirable-velvet",
   "metadata": {},
   "source": [
    "Check for any NAN values and that the data matrix is positive definite"
   ]
  },
  {
   "cell_type": "code",
   "execution_count": null,
   "id": "designed-europe",
   "metadata": {},
   "outputs": [],
   "source": [
    "print(np.any(np.isnan(data)))\n",
    "print(is_pos_def(np.cov(data.T)))"
   ]
  },
  {
   "cell_type": "markdown",
   "id": "periodic-lounge",
   "metadata": {},
   "source": [
    "The following performs variance normalization via Quantile normalization using the function given above."
   ]
  },
  {
   "cell_type": "code",
   "execution_count": null,
   "id": "mediterranean-relay",
   "metadata": {},
   "outputs": [],
   "source": [
    "# Quantile Normalization \n",
    "data = qnorm_dataframe( data )"
   ]
  },
  {
   "cell_type": "markdown",
   "id": "proved-fifteen",
   "metadata": {},
   "source": [
    "The following performs variance normalization via Boyle et al. PCA transformation using olfactory genes, implemented as in the Wainberg et al. 2021 methods. Download 'olfactory_genes.txt' file at: https://github.com/kundajelab/coessentiality\n"
   ]
  },
  {
   "cell_type": "code",
   "execution_count": null,
   "id": "based-planning",
   "metadata": {},
   "outputs": [],
   "source": [
    "# Boyle et al. PCA Variance Normalization\n",
    "\n",
    "olfactory_genes = pd.read_csv('olfactory_genes.txt', header=None, squeeze=True)\n",
    "olfactory_data = data.reindex(olfactory_genes).dropna()\n",
    "\n",
    "transformation = PCA(n_components=4)\n",
    "transformation.fit(olfactory_data)\n",
    "\n",
    "top_PC_effects = transformation.inverse_transform(transformation.transform(data))\n",
    "\n",
    "data -= top_PC_effects\n",
    "data = data.iloc[:, :-4]"
   ]
  },
  {
   "cell_type": "markdown",
   "id": "empirical-terrorism",
   "metadata": {},
   "source": [
    "The following performs covariance normalization via PCA Whitening transformation using the function given above"
   ]
  },
  {
   "cell_type": "code",
   "execution_count": null,
   "id": "graduate-transsexual",
   "metadata": {},
   "outputs": [],
   "source": [
    "# PCA Whitening Covariance Transformation\n",
    "data=PCA_whitening(data)"
   ]
  },
  {
   "cell_type": "markdown",
   "id": "normal-anniversary",
   "metadata": {},
   "source": [
    "The following performs covariance normalization via Cholesky transformation, implemented as in the Wainberg et al 2021 methods."
   ]
  },
  {
   "cell_type": "code",
   "execution_count": null,
   "id": "formed-insured",
   "metadata": {},
   "outputs": [],
   "source": [
    "# Cholesky Covariance Transformation\n",
    "data=cholesky_whitening(data)"
   ]
  },
  {
   "cell_type": "markdown",
   "id": "geographic-tamil",
   "metadata": {},
   "source": [
    "The following performs Ordinary (or Generalized if Cholesky covariance normalization is applied) Least Squares to measure similarity of gene vectors, and ranks the resulting gene pairs by log P-values\n",
    "\n",
    "The Generalized least squares method is implemented as in the Wainberg et al 2021 paper. \n"
   ]
  },
  {
   "cell_type": "code",
   "execution_count": null,
   "id": "final-nerve",
   "metadata": {},
   "outputs": [],
   "source": [
    "# Least Squares\n",
    "\n",
    "screen=data.values\n",
    "\n",
    "### If CHOLESKY covariance normalization is applied, the intercept should be calculated with the following:\n",
    "# This then becomes the Generalized Least Squares described in Wainberg et al. 2021 methods.\n",
    "\n",
    "# cholsigmainv = np.linalg.cholesky(np.linalg.pinv(np.cov(data.T)))\n",
    "# intercept = cholsigmainv.sum(axis=0)\n",
    "\n",
    "\n",
    "### Otherwise, use:\n",
    "intercept=np.ones(screen.shape[1],dtype=int)\n",
    "\n",
    "GLS_coef = np.empty((len(screen), len(screen)))\n",
    "GLS_se = np.empty((len(screen), len(screen)))\n",
    "ys = np.array(screen.T)\n",
    "\n",
    "for gene_index in range(len(screen)):\n",
    "        \n",
    "    X = np.stack((intercept,screen[gene_index]), axis=1)\n",
    "        \n",
    "    coef, residues = np.linalg.lstsq(X, ys, rcond=None)[:2]\n",
    "        \n",
    "    df = screen.shape[1] - 2\n",
    "        \n",
    "    GLS_coef[gene_index] = coef[1]\n",
    "        \n",
    "    GLS_se[gene_index] = \\\n",
    "        np.sqrt(np.linalg.pinv(X.T @ X)[1, 1] * residues / df)\n",
    "\n",
    "df = screen.shape[1] - 2\n",
    "\n",
    "GLS_p = 2 * stdtr(df, -np.abs(GLS_coef / GLS_se))\n",
    "\n",
    "np.fill_diagonal(GLS_p, 1)\n",
    "\n",
    "GLS_logp=np.negative(np.log10(GLS_p))\n",
    "\n",
    "GLS_logp_df = pd.DataFrame(GLS_logp , index=data.index.values, columns=data.index.values)\n",
    "\n",
    "# Create and rank OLS Pairs\n",
    "\n",
    "OLS_pairs = ut_as_list(GLS_logp_df, diag=1, cols=['Gene1','Gene2','OLS logP'] ).sort_values('OLS logP', ascending=False) \n"
   ]
  },
  {
   "cell_type": "markdown",
   "id": "classical-mortgage",
   "metadata": {},
   "source": [
    "The following calculates Pearson's correlation coefficients to measure similarity of gene vectors, and ranks the resulting gene pairs by PCC values"
   ]
  },
  {
   "cell_type": "code",
   "execution_count": null,
   "id": "champion-latitude",
   "metadata": {},
   "outputs": [],
   "source": [
    "# PCC \n",
    "\n",
    "#  Correlation matrix\n",
    "Corr_df = pd.DataFrame( np.corrcoef(data.values) , index=data.index.values, columns=data.index.values)\n",
    "\n",
    "# Create and rank PCC Pairs\n",
    "PCC_pairs = ut_as_list(Corr_df,cols=['Gene1','Gene2','PCC']).sort_values(by='PCC',key=abs, ascending=False)"
   ]
  },
  {
   "cell_type": "markdown",
   "id": "ordinary-february",
   "metadata": {},
   "source": [
    "Save the resulting network"
   ]
  },
  {
   "cell_type": "code",
   "execution_count": null,
   "id": "cultural-simpson",
   "metadata": {},
   "outputs": [],
   "source": [
    "# Save Pairs\n",
    "\n",
    "# PCC_pairs.to_csv('',index=False)\n",
    "\n",
    "# OLS_pairs.to_csv('',index=False)\n",
    "\n"
   ]
  }
 ],
 "metadata": {
  "kernelspec": {
   "display_name": "Python 3",
   "language": "python",
   "name": "python3"
  },
  "language_info": {
   "codemirror_mode": {
    "name": "ipython",
    "version": 3
   },
   "file_extension": ".py",
   "mimetype": "text/x-python",
   "name": "python",
   "nbconvert_exporter": "python",
   "pygments_lexer": "ipython3",
   "version": "3.8.10"
  }
 },
 "nbformat": 4,
 "nbformat_minor": 5
}

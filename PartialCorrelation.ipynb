{
 "cells": [
  {
   "cell_type": "code",
   "execution_count": null,
   "id": "pursuant-newfoundland",
   "metadata": {},
   "outputs": [],
   "source": [
    "import pandas as pd\n",
    "import numpy as np\n",
    "import scipy.stats as stats\n",
    "import sys\n",
    "import matplotlib.pyplot as plt\n"
   ]
  },
  {
   "cell_type": "code",
   "execution_count": null,
   "id": "broke-violence",
   "metadata": {},
   "outputs": [],
   "source": [
    "def ut_as_list( dframe, diag=1, cols=['Row','Column','Value'] ):\n",
    "  \"\"\"\n",
    "  for a symmetric dataframe, where cols=rows, get the upper triangle as a list of row/column pairs\n",
    "  diag = 1 (default): ignore diagonal\n",
    "  diag = 0: include diagonal\n",
    "  \"\"\"\n",
    "  #if (dframe.index.name == dframe.columns.name):\n",
    "  dframe.index.name = cols[0]\n",
    "  dframe.columns.name = cols[1]\n",
    "  #             dframe.index.name = dframe.index.name + '.1'\n",
    "  #             dframe.index.name = dframe.index.name + '.2'\n",
    "  d = dframe.where( np.triu( np.ones( dframe.shape ), k=diag).astype(bool))\n",
    "  d = d.stack().reset_index()\n",
    "  d.columns=cols\n",
    "  return d\n",
    "\n",
    "def PCA_whitening(X):\n",
    "    centered_X = X - np.mean(X, axis = 0)\n",
    "    cov = np.cov(centered_X.T)\n",
    "    # Calculate the eigenvalues and eigenvectors of the covariance matrix\n",
    "    eigVals, eigVecs = np.linalg.eig(cov)\n",
    "    # Apply the eigenvectors to X\n",
    "    transf_x = centered_X @ eigVecs\n",
    "    whitened_x = transf_x / np.sqrt(eigVals + 1e-5)\n",
    "    return whitened_x\n",
    "\n",
    "def partial(x,y,z,cc):\n",
    "    #\n",
    "    # x, y, z = gene (row/column) names\n",
    "    # cc = dataframe; symmetric matrix of pearson correlations\n",
    "    #\n",
    "    pxy = cc.loc[x,y]\n",
    "    pxz = cc.loc[x,z]\n",
    "    pyz = cc.loc[y,z]\n",
    "    pxy_z = (pxy - pxz*pyz) / (np.sqrt(1-pxz**2) * np.sqrt(1-pyz**2) )\n",
    "#     pxy_z['ratio']= pxy_z**2/ pxy**2\n",
    "    \n",
    "    return pxy_z\n",
    "\n",
    "def get_all_partials( g1, g2, cc):\n",
    "    pxy = cc.loc[g1][g2]\n",
    "    pxy_vect = np.array( list([pxy])*(cc.shape[0]) ) #vector\n",
    "    pxz = cc.loc[g1]                              #vector\n",
    "    pyz = cc.loc[g2]                              #vector\n",
    "    pxy_all = (pxy_vect -  np.multiply(pxz, pyz)) / ( np.sqrt( 1-pxz**2) * np.sqrt( 1-pyz**2) )\n",
    "    framename = 'pc_' + g1 + '_' + g2\n",
    "    pxy_all = pxy_all.to_frame(framename)\n",
    "    pxy_all.drop( [g1, g2], axis=0, inplace=True) # don't include these!\n",
    "    pxy_all['ratio'] = pxy_all[framename]**2 / pxy**2\n",
    "    pxy_all.sort_values('ratio', ascending=False, inplace=True)\n",
    "    return pxy_all"
   ]
  },
  {
   "cell_type": "code",
   "execution_count": null,
   "id": "norman-presentation",
   "metadata": {},
   "outputs": [],
   "source": [
    "data= pd.read_csv('Ceres_dataframe.csv',header=0,index_col=0)\n",
    "print(data.shape)"
   ]
  },
  {
   "cell_type": "code",
   "execution_count": null,
   "id": "trained-explanation",
   "metadata": {},
   "outputs": [],
   "source": [
    "w_data=PCA_whitening(data)"
   ]
  },
  {
   "cell_type": "code",
   "execution_count": null,
   "id": "micro-entrance",
   "metadata": {},
   "outputs": [],
   "source": [
    "ccvals = np.corrcoef( w_data )\n",
    "np.fill_diagonal( ccvals, 0) \n",
    "cc = pd.DataFrame( index=data.index.values, columns=data.index.values, data= ccvals )\n",
    "\n",
    "# # Create PCC Pairs\n",
    "PCC_pairs = ut_as_list(cc,cols=['Gene1','Gene2','G1G2_PCC']).sort_values(by='G1G2_PCC',key=abs, ascending=False)"
   ]
  },
  {
   "cell_type": "code",
   "execution_count": null,
   "id": "intelligent-corps",
   "metadata": {},
   "outputs": [],
   "source": [
    "filtered_list=PCC_pairs[~PCC_pairs['G1G2_PCC'].between(-0.15,0.15)]"
   ]
  },
  {
   "cell_type": "code",
   "execution_count": null,
   "id": "separate-studio",
   "metadata": {},
   "outputs": [],
   "source": [
    "filtered_list[\"Gene3\"] = \"\"\n",
    "filtered_list[\"G1G2.G3_Partial\"] = \"\"\n",
    "filtered_list[\"G1G2.G3_Ratio\"] = \"\"\n",
    "\n",
    "filtered_list[\"G1G3_PCC\"]=\"\"\n",
    "filtered_list[\"G1G3.G2_Partial\"] = \"\"\n",
    "filtered_list[\"G1G3.G2_Ratio\"] = \"\"\n",
    "\n",
    "filtered_list[\"G2G3_PCC\"]=\"\"\n",
    "filtered_list[\"G2G3.G1_Partial\"] = \"\"\n",
    "filtered_list[\"G2G3.G1_Ratio\"] = \"\"\n"
   ]
  },
  {
   "cell_type": "code",
   "execution_count": null,
   "id": "amber-geometry",
   "metadata": {},
   "outputs": [],
   "source": [
    "for i in range (0,len(filtered_list)):\n",
    "    g1=filtered_list.iloc[i]['Gene1']\n",
    "    g2=filtered_list.iloc[i]['Gene2']\n",
    "    \n",
    "#     get all partials for g1 g2\n",
    "    partials_g1g2=get_all_partials(g1,g2,cc)\n",
    "    \n",
    "#     save (first) partial, ratio, and gene 3 on new columns \n",
    "\n",
    "    filtered_list[\"G1G2.G3_Partial\"].iloc[i]=partials_g1g2.iloc[0,0]\n",
    "    filtered_list[\"Gene3\"].iloc[i]=partials_g1g2.index[0]\n",
    "    \n",
    "    g3=filtered_list.iloc[i]['Gene3']\n",
    "    \n",
    "    filtered_list[\"G1G2.G3_Ratio\"].iloc[i]=((partial(g1,g2,g3,cc))**2)/(cc.loc[g1][g2])**2\n",
    "    \n",
    "    filtered_list[\"G1G3_PCC\"].iloc[i]=cc.loc[g1][g3]\n",
    "    filtered_list[\"G2G3_PCC\"].iloc[i]=cc.loc[g2][g3]\n",
    "    \n",
    "    partial_g1g3_g2=partial(g1,g3,g2,cc)\n",
    "    ratio_g1g3_g2=(partial_g1g3_g2)**2/(cc.loc[g1][g3])**2\n",
    "    filtered_list[\"G1G3.G2_Partial\"].iloc[i]=partial_g1g3_g2\n",
    "    filtered_list[\"G1G3.G2_Ratio\"].iloc[i]=ratio_g1g3_g2\n",
    "    \n",
    "    partial_g2g3_g1=partial(g2,g3,g1,cc)\n",
    "    ratio_g2g3_g1=(partial_g2g3_g1)**2/(cc.loc[g2][g3])**2\n",
    "    filtered_list[\"G2G3.G1_Partial\"].iloc[i]=partial_g2g3_g1\n",
    "    filtered_list[\"G2G3.G1_Ratio\"].iloc[i]=ratio_g2g3_g1\n",
    "    "
   ]
  },
  {
   "cell_type": "code",
   "execution_count": null,
   "id": "american-while",
   "metadata": {},
   "outputs": [],
   "source": [
    "filtered_list.shape"
   ]
  },
  {
   "cell_type": "code",
   "execution_count": null,
   "id": "excess-starter",
   "metadata": {},
   "outputs": [],
   "source": [
    "moon=filtered_list[(filtered_list['G1G2.G3_Ratio']>2) | (filtered_list['G1G3.G2_Ratio'].values>2) | (filtered_list['G2G3.G1_Ratio'].values>2) ]\n",
    "moon.reset_index(drop=True,inplace=True)\n",
    "moon.shape"
   ]
  },
  {
   "cell_type": "code",
   "execution_count": null,
   "id": "expanded-diploma",
   "metadata": {},
   "outputs": [],
   "source": [
    "for i in range (0,len(moon)):\n",
    "    if moon['G1G2_PCC'][i]<0 and moon['G1G3_PCC'][i]<0:\n",
    "        moon.drop([i],axis=0,inplace=True)\n",
    "    elif moon['G1G2_PCC'][i]<0 and moon['G2G3_PCC'][i]<0:\n",
    "        moon.drop([i],axis=0,inplace=True)\n",
    "    elif moon['G1G3_PCC'][i]<0 and moon['G2G3_PCC'][i]<0:\n",
    "        moon.drop([i],axis=0,inplace=True)\n",
    "        \n",
    "moon.reset_index(drop=True,inplace=True)\n",
    "moon.shape"
   ]
  },
  {
   "cell_type": "code",
   "execution_count": null,
   "id": "indian-earthquake",
   "metadata": {},
   "outputs": [],
   "source": [
    "moon['Moonlighter Gene']=\"\"\n",
    "\n",
    "for i in range (0,len(moon)):\n",
    "    if moon['G1G2_PCC'][i]<0:\n",
    "        moon['Moonlighter Gene'][i]=moon['Gene3'][i]\n",
    "    elif moon['G1G3_PCC'][i]<0:\n",
    "        moon['Moonlighter Gene'][i]=moon['Gene2'][i]\n",
    "    elif  moon['G2G3_PCC'][i]<0:\n",
    "        moon['Moonlighter Gene'][i]=moon['Gene1'][i]\n",
    "        "
   ]
  },
  {
   "cell_type": "code",
   "execution_count": null,
   "id": "nasty-yugoslavia",
   "metadata": {},
   "outputs": [],
   "source": []
  }
 ],
 "metadata": {
  "kernelspec": {
   "display_name": "Python 3",
   "language": "python",
   "name": "python3"
  },
  "language_info": {
   "codemirror_mode": {
    "name": "ipython",
    "version": 3
   },
   "file_extension": ".py",
   "mimetype": "text/x-python",
   "name": "python",
   "nbconvert_exporter": "python",
   "pygments_lexer": "ipython3",
   "version": "3.8.10"
  }
 },
 "nbformat": 4,
 "nbformat_minor": 5
}

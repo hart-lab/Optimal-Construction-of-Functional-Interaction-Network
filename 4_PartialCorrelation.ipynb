{
 "cells": [
  {
   "cell_type": "markdown",
   "id": "subject-pulse",
   "metadata": {},
   "source": [
    "Partial correlation method to find moonlighting gene trios\n",
    "\n",
    "The data file resulting from this analysis is available as Supplementary Table S1."
   ]
  },
  {
   "cell_type": "markdown",
   "id": "danish-spray",
   "metadata": {},
   "source": [
    "Import packages and load functions:"
   ]
  },
  {
   "cell_type": "code",
   "execution_count": 1,
   "id": "pursuant-newfoundland",
   "metadata": {},
   "outputs": [],
   "source": [
    "import pandas as pd\n",
    "import numpy as np\n",
    "import scipy.stats as stats\n",
    "import sys\n",
    "import matplotlib.pyplot as plt\n"
   ]
  },
  {
   "cell_type": "code",
   "execution_count": 2,
   "id": "broke-violence",
   "metadata": {},
   "outputs": [],
   "source": [
    "# Creates list of gene pairs and their edge value\n",
    "def ut_as_list( dframe, diag=1, cols=['Row','Column','Value'] ):\n",
    "  \"\"\"\n",
    "  for a symmetric dataframe, where cols=rows, get the upper triangle as a list of row/column pairs\n",
    "  diag = 1 (default): ignore diagonal\n",
    "  diag = 0: include diagonal\n",
    "  \"\"\"\n",
    "  #if (dframe.index.name == dframe.columns.name):\n",
    "  dframe.index.name = cols[0]\n",
    "  dframe.columns.name = cols[1]\n",
    "  #             dframe.index.name = dframe.index.name + '.1'\n",
    "  #             dframe.index.name = dframe.index.name + '.2'\n",
    "  d = dframe.where( np.triu( np.ones( dframe.shape ), k=diag).astype(bool))\n",
    "  d = d.stack().reset_index()\n",
    "  d.columns=cols\n",
    "  return d\n",
    "\n",
    "# Covariance normalization using PCA whitening transformation\n",
    "def PCA_whitening(X):\n",
    "    centered_X = X - np.mean(X, axis = 0)\n",
    "    cov = np.cov(centered_X.T)\n",
    "    # Calculate the eigenvalues and eigenvectors of the covariance matrix\n",
    "    eigVals, eigVecs = np.linalg.eig(cov)\n",
    "    # Apply the eigenvectors to X\n",
    "    transf_x = centered_X @ eigVecs\n",
    "    whitened_x = transf_x / np.sqrt(eigVals + 1e-5)\n",
    "    return whitened_x\n",
    "\n",
    "# Get Partial correlation coefficient for two genes after accounting for the effect of a third gene vector. \n",
    "def partial(x,y,z,cc):\n",
    "    #\n",
    "    # x, y, z = gene (row/column) names\n",
    "    # cc = dataframe; symmetric matrix of pearson correlations\n",
    "    #\n",
    "    pxy = cc.loc[x,y]\n",
    "    pxz = cc.loc[x,z]\n",
    "    pyz = cc.loc[y,z]\n",
    "    pxy_z = (pxy - pxz*pyz) / (np.sqrt(1-pxz**2) * np.sqrt(1-pyz**2) )\n",
    "#     pxy_z['ratio']= pxy_z**2/ pxy**2\n",
    "    \n",
    "    return pxy_z\n",
    "\n",
    "# Get Partial correlation coefficients for two genes after accounting for the effect of all possible third genes\n",
    "def get_all_partials( g1, g2, cc):\n",
    "    pxy = cc.loc[g1][g2]\n",
    "    pxy_vect = np.array( list([pxy])*(cc.shape[0]) ) #vector\n",
    "    pxz = cc.loc[g1]                              #vector\n",
    "    pyz = cc.loc[g2]                              #vector\n",
    "    pxy_all = (pxy_vect -  np.multiply(pxz, pyz)) / ( np.sqrt( 1-pxz**2) * np.sqrt( 1-pyz**2) )\n",
    "    framename = 'pc_' + g1 + '_' + g2\n",
    "    pxy_all = pxy_all.to_frame(framename)\n",
    "    pxy_all.drop( [g1, g2], axis=0, inplace=True) # don't include these!\n",
    "    pxy_all['ratio'] = pxy_all[framename]**2 / pxy**2\n",
    "    pxy_all.sort_values('ratio', ascending=False, inplace=True)\n",
    "    return pxy_all"
   ]
  },
  {
   "cell_type": "markdown",
   "id": "deadly-implement",
   "metadata": {},
   "source": [
    "Data files can be downloaded from: https://doi.org/10.6084/m9.figshare.21379761\n",
    "\n",
    "Load data:"
   ]
  },
  {
   "cell_type": "code",
   "execution_count": 3,
   "id": "norman-presentation",
   "metadata": {},
   "outputs": [
    {
     "name": "stdout",
     "output_type": "stream",
     "text": [
      "(17834, 730)\n"
     ]
    }
   ],
   "source": [
    "data= pd.read_csv('Ceres_dataframe.csv',header=0,index_col=0)\n",
    "print(data.shape)"
   ]
  },
  {
   "cell_type": "markdown",
   "id": "soviet-muslim",
   "metadata": {},
   "source": [
    "Apply covariance normalization via PCA whitening transformation to the data:"
   ]
  },
  {
   "cell_type": "code",
   "execution_count": 4,
   "id": "trained-explanation",
   "metadata": {},
   "outputs": [],
   "source": [
    "w_data=PCA_whitening(data)"
   ]
  },
  {
   "cell_type": "markdown",
   "id": "blocked-medium",
   "metadata": {},
   "source": [
    "Calculate correlation matrix, and create gene pairs with the edge being the corresponding PCC value."
   ]
  },
  {
   "cell_type": "code",
   "execution_count": 5,
   "id": "micro-entrance",
   "metadata": {},
   "outputs": [],
   "source": [
    "ccvals = np.corrcoef( w_data )\n",
    "np.fill_diagonal( ccvals, 0) \n",
    "cc = pd.DataFrame( index=data.index.values, columns=data.index.values, data= ccvals )\n",
    "\n",
    "# # Create PCC Pairs\n",
    "PCC_pairs = ut_as_list(cc,cols=['Gene1','Gene2','G1G2_PCC']).sort_values(by='G1G2_PCC',key=abs, ascending=False)"
   ]
  },
  {
   "cell_type": "markdown",
   "id": "common-morrison",
   "metadata": {},
   "source": [
    "Filter the pairs to include only those with PCC>0.15 and PCC<-0.15"
   ]
  },
  {
   "cell_type": "code",
   "execution_count": 22,
   "id": "intelligent-corps",
   "metadata": {},
   "outputs": [],
   "source": [
    "filtered_list=PCC_pairs[~PCC_pairs['G1G2_PCC'].between(-0.15,0.15)]"
   ]
  },
  {
   "cell_type": "markdown",
   "id": "embedded-intention",
   "metadata": {},
   "source": [
    "Create new columns in the dataframe to save the partial correlation information"
   ]
  },
  {
   "cell_type": "code",
   "execution_count": 23,
   "id": "substantial-medicaid",
   "metadata": {},
   "outputs": [],
   "source": [
    "filtered_list=filtered_list.reindex(columns = filtered_list.columns.tolist() + ['Gene3',\"G1G2.G3_Partial\",\"G1G2.G3_Ratio\",\n",
    "                                                                                \"G1G3_PCC\",\"G1G3.G2_Partial\",\"G1G3.G2_Ratio\",\n",
    "                                                                               \"G2G3_PCC\",\"G2G3.G1_Partial\",\"G2G3.G1_Ratio\"])\n",
    "filtered_list.reset_index(drop=True,inplace=True)"
   ]
  },
  {
   "cell_type": "code",
   "execution_count": 24,
   "id": "aboriginal-blend",
   "metadata": {},
   "outputs": [
    {
     "data": {
      "text/html": [
       "<div>\n",
       "<style scoped>\n",
       "    .dataframe tbody tr th:only-of-type {\n",
       "        vertical-align: middle;\n",
       "    }\n",
       "\n",
       "    .dataframe tbody tr th {\n",
       "        vertical-align: top;\n",
       "    }\n",
       "\n",
       "    .dataframe thead th {\n",
       "        text-align: right;\n",
       "    }\n",
       "</style>\n",
       "<table border=\"1\" class=\"dataframe\">\n",
       "  <thead>\n",
       "    <tr style=\"text-align: right;\">\n",
       "      <th></th>\n",
       "      <th>Gene1</th>\n",
       "      <th>Gene2</th>\n",
       "      <th>G1G2_PCC</th>\n",
       "      <th>Gene3</th>\n",
       "      <th>G1G2.G3_Partial</th>\n",
       "      <th>G1G2.G3_Ratio</th>\n",
       "      <th>G1G3_PCC</th>\n",
       "      <th>G1G3.G2_Partial</th>\n",
       "      <th>G1G3.G2_Ratio</th>\n",
       "      <th>G2G3_PCC</th>\n",
       "      <th>G2G3.G1_Partial</th>\n",
       "      <th>G2G3.G1_Ratio</th>\n",
       "    </tr>\n",
       "  </thead>\n",
       "  <tbody>\n",
       "    <tr>\n",
       "      <th>0</th>\n",
       "      <td>TSC1</td>\n",
       "      <td>TSC2</td>\n",
       "      <td>0.841137</td>\n",
       "      <td>NaN</td>\n",
       "      <td>NaN</td>\n",
       "      <td>NaN</td>\n",
       "      <td>NaN</td>\n",
       "      <td>NaN</td>\n",
       "      <td>NaN</td>\n",
       "      <td>NaN</td>\n",
       "      <td>NaN</td>\n",
       "      <td>NaN</td>\n",
       "    </tr>\n",
       "    <tr>\n",
       "      <th>1</th>\n",
       "      <td>KIDINS220</td>\n",
       "      <td>XPR1</td>\n",
       "      <td>0.785930</td>\n",
       "      <td>NaN</td>\n",
       "      <td>NaN</td>\n",
       "      <td>NaN</td>\n",
       "      <td>NaN</td>\n",
       "      <td>NaN</td>\n",
       "      <td>NaN</td>\n",
       "      <td>NaN</td>\n",
       "      <td>NaN</td>\n",
       "      <td>NaN</td>\n",
       "    </tr>\n",
       "    <tr>\n",
       "      <th>2</th>\n",
       "      <td>OTUD5</td>\n",
       "      <td>UBR5</td>\n",
       "      <td>0.755237</td>\n",
       "      <td>NaN</td>\n",
       "      <td>NaN</td>\n",
       "      <td>NaN</td>\n",
       "      <td>NaN</td>\n",
       "      <td>NaN</td>\n",
       "      <td>NaN</td>\n",
       "      <td>NaN</td>\n",
       "      <td>NaN</td>\n",
       "      <td>NaN</td>\n",
       "    </tr>\n",
       "    <tr>\n",
       "      <th>3</th>\n",
       "      <td>SUPT20H</td>\n",
       "      <td>TAF5L</td>\n",
       "      <td>0.744304</td>\n",
       "      <td>NaN</td>\n",
       "      <td>NaN</td>\n",
       "      <td>NaN</td>\n",
       "      <td>NaN</td>\n",
       "      <td>NaN</td>\n",
       "      <td>NaN</td>\n",
       "      <td>NaN</td>\n",
       "      <td>NaN</td>\n",
       "      <td>NaN</td>\n",
       "    </tr>\n",
       "    <tr>\n",
       "      <th>4</th>\n",
       "      <td>DEPDC5</td>\n",
       "      <td>NPRL2</td>\n",
       "      <td>0.741498</td>\n",
       "      <td>NaN</td>\n",
       "      <td>NaN</td>\n",
       "      <td>NaN</td>\n",
       "      <td>NaN</td>\n",
       "      <td>NaN</td>\n",
       "      <td>NaN</td>\n",
       "      <td>NaN</td>\n",
       "      <td>NaN</td>\n",
       "      <td>NaN</td>\n",
       "    </tr>\n",
       "    <tr>\n",
       "      <th>...</th>\n",
       "      <td>...</td>\n",
       "      <td>...</td>\n",
       "      <td>...</td>\n",
       "      <td>...</td>\n",
       "      <td>...</td>\n",
       "      <td>...</td>\n",
       "      <td>...</td>\n",
       "      <td>...</td>\n",
       "      <td>...</td>\n",
       "      <td>...</td>\n",
       "      <td>...</td>\n",
       "      <td>...</td>\n",
       "    </tr>\n",
       "    <tr>\n",
       "      <th>49479</th>\n",
       "      <td>ACRV1</td>\n",
       "      <td>HTR3B</td>\n",
       "      <td>0.150004</td>\n",
       "      <td>NaN</td>\n",
       "      <td>NaN</td>\n",
       "      <td>NaN</td>\n",
       "      <td>NaN</td>\n",
       "      <td>NaN</td>\n",
       "      <td>NaN</td>\n",
       "      <td>NaN</td>\n",
       "      <td>NaN</td>\n",
       "      <td>NaN</td>\n",
       "    </tr>\n",
       "    <tr>\n",
       "      <th>49480</th>\n",
       "      <td>CBY3</td>\n",
       "      <td>ZNF454</td>\n",
       "      <td>0.150004</td>\n",
       "      <td>NaN</td>\n",
       "      <td>NaN</td>\n",
       "      <td>NaN</td>\n",
       "      <td>NaN</td>\n",
       "      <td>NaN</td>\n",
       "      <td>NaN</td>\n",
       "      <td>NaN</td>\n",
       "      <td>NaN</td>\n",
       "      <td>NaN</td>\n",
       "    </tr>\n",
       "    <tr>\n",
       "      <th>49481</th>\n",
       "      <td>CRMP1</td>\n",
       "      <td>NSG1</td>\n",
       "      <td>0.150003</td>\n",
       "      <td>NaN</td>\n",
       "      <td>NaN</td>\n",
       "      <td>NaN</td>\n",
       "      <td>NaN</td>\n",
       "      <td>NaN</td>\n",
       "      <td>NaN</td>\n",
       "      <td>NaN</td>\n",
       "      <td>NaN</td>\n",
       "      <td>NaN</td>\n",
       "    </tr>\n",
       "    <tr>\n",
       "      <th>49482</th>\n",
       "      <td>POLQ</td>\n",
       "      <td>WAS</td>\n",
       "      <td>0.150001</td>\n",
       "      <td>NaN</td>\n",
       "      <td>NaN</td>\n",
       "      <td>NaN</td>\n",
       "      <td>NaN</td>\n",
       "      <td>NaN</td>\n",
       "      <td>NaN</td>\n",
       "      <td>NaN</td>\n",
       "      <td>NaN</td>\n",
       "      <td>NaN</td>\n",
       "    </tr>\n",
       "    <tr>\n",
       "      <th>49483</th>\n",
       "      <td>BARHL1</td>\n",
       "      <td>RALGAPA1</td>\n",
       "      <td>0.150000</td>\n",
       "      <td>NaN</td>\n",
       "      <td>NaN</td>\n",
       "      <td>NaN</td>\n",
       "      <td>NaN</td>\n",
       "      <td>NaN</td>\n",
       "      <td>NaN</td>\n",
       "      <td>NaN</td>\n",
       "      <td>NaN</td>\n",
       "      <td>NaN</td>\n",
       "    </tr>\n",
       "  </tbody>\n",
       "</table>\n",
       "<p>49484 rows × 12 columns</p>\n",
       "</div>"
      ],
      "text/plain": [
       "           Gene1     Gene2  G1G2_PCC  Gene3  G1G2.G3_Partial  G1G2.G3_Ratio  \\\n",
       "0           TSC1      TSC2  0.841137    NaN              NaN            NaN   \n",
       "1      KIDINS220      XPR1  0.785930    NaN              NaN            NaN   \n",
       "2          OTUD5      UBR5  0.755237    NaN              NaN            NaN   \n",
       "3        SUPT20H     TAF5L  0.744304    NaN              NaN            NaN   \n",
       "4         DEPDC5     NPRL2  0.741498    NaN              NaN            NaN   \n",
       "...          ...       ...       ...    ...              ...            ...   \n",
       "49479      ACRV1     HTR3B  0.150004    NaN              NaN            NaN   \n",
       "49480       CBY3    ZNF454  0.150004    NaN              NaN            NaN   \n",
       "49481      CRMP1      NSG1  0.150003    NaN              NaN            NaN   \n",
       "49482       POLQ       WAS  0.150001    NaN              NaN            NaN   \n",
       "49483     BARHL1  RALGAPA1  0.150000    NaN              NaN            NaN   \n",
       "\n",
       "       G1G3_PCC  G1G3.G2_Partial  G1G3.G2_Ratio  G2G3_PCC  G2G3.G1_Partial  \\\n",
       "0           NaN              NaN            NaN       NaN              NaN   \n",
       "1           NaN              NaN            NaN       NaN              NaN   \n",
       "2           NaN              NaN            NaN       NaN              NaN   \n",
       "3           NaN              NaN            NaN       NaN              NaN   \n",
       "4           NaN              NaN            NaN       NaN              NaN   \n",
       "...         ...              ...            ...       ...              ...   \n",
       "49479       NaN              NaN            NaN       NaN              NaN   \n",
       "49480       NaN              NaN            NaN       NaN              NaN   \n",
       "49481       NaN              NaN            NaN       NaN              NaN   \n",
       "49482       NaN              NaN            NaN       NaN              NaN   \n",
       "49483       NaN              NaN            NaN       NaN              NaN   \n",
       "\n",
       "       G2G3.G1_Ratio  \n",
       "0                NaN  \n",
       "1                NaN  \n",
       "2                NaN  \n",
       "3                NaN  \n",
       "4                NaN  \n",
       "...              ...  \n",
       "49479            NaN  \n",
       "49480            NaN  \n",
       "49481            NaN  \n",
       "49482            NaN  \n",
       "49483            NaN  \n",
       "\n",
       "[49484 rows x 12 columns]"
      ]
     },
     "execution_count": 24,
     "metadata": {},
     "output_type": "execute_result"
    }
   ],
   "source": [
    "filtered_list"
   ]
  },
  {
   "cell_type": "markdown",
   "id": "opposed-exclusion",
   "metadata": {},
   "source": [
    "Calculate partial correlation coefficients for each pair with respect to all possible genes, and save the gene with the highest effect\n",
    "\n",
    "Calculate ratios of correlation coefficients as described in methods"
   ]
  },
  {
   "cell_type": "code",
   "execution_count": 26,
   "id": "amber-geometry",
   "metadata": {},
   "outputs": [],
   "source": [
    "for i in range (0,len(filtered_list)):\n",
    "    g1=filtered_list.loc[i,'Gene1']\n",
    "    g2=filtered_list.loc[i,'Gene2']\n",
    "    \n",
    "#     get all partials for g1 g2\n",
    "    partials_g1g2=get_all_partials(g1,g2,cc)\n",
    "    \n",
    "#     save (first) partial, ratio, and gene 3 on new columns \n",
    "\n",
    "    filtered_list.loc[i,\"G1G2.G3_Partial\"]=partials_g1g2.iloc[0,0]\n",
    "    filtered_list.loc[i,\"Gene3\"]=partials_g1g2.index[0]\n",
    "    \n",
    "    g3=filtered_list.loc[i,'Gene3']\n",
    "    \n",
    "    filtered_list.loc[i,\"G1G2.G3_Ratio\"]=((partial(g1,g2,g3,cc))**2)/(cc.loc[g1][g2])**2\n",
    "    \n",
    "    filtered_list.loc[i,\"G1G3_PCC\"]=cc.loc[g1][g3]\n",
    "    filtered_list.loc[i,\"G2G3_PCC\"]=cc.loc[g2][g3]\n",
    "    \n",
    "    partial_g1g3_g2=partial(g1,g3,g2,cc)\n",
    "    ratio_g1g3_g2=(partial_g1g3_g2)**2/(cc.loc[g1][g3])**2\n",
    "    filtered_list.loc[i,\"G1G3.G2_Partial\"]=partial_g1g3_g2\n",
    "    filtered_list.loc[i,\"G1G3.G2_Ratio\"]=ratio_g1g3_g2\n",
    "    \n",
    "    partial_g2g3_g1=partial(g2,g3,g1,cc)\n",
    "    ratio_g2g3_g1=(partial_g2g3_g1)**2/(cc.loc[g2][g3])**2\n",
    "    filtered_list.loc[i,\"G2G3.G1_Partial\"]=partial_g2g3_g1\n",
    "    filtered_list.loc[i,\"G2G3.G1_Ratio\"]=ratio_g2g3_g1\n",
    "    "
   ]
  },
  {
   "cell_type": "code",
   "execution_count": 27,
   "id": "american-while",
   "metadata": {},
   "outputs": [
    {
     "data": {
      "text/plain": [
       "(49484, 12)"
      ]
     },
     "execution_count": 27,
     "metadata": {},
     "output_type": "execute_result"
    }
   ],
   "source": [
    "filtered_list.shape"
   ]
  },
  {
   "cell_type": "markdown",
   "id": "potential-subscription",
   "metadata": {},
   "source": [
    "Filter the list such that at least one of the three ratios is >2."
   ]
  },
  {
   "cell_type": "code",
   "execution_count": 34,
   "id": "excess-starter",
   "metadata": {},
   "outputs": [
    {
     "data": {
      "text/plain": [
       "(9219, 12)"
      ]
     },
     "execution_count": 34,
     "metadata": {},
     "output_type": "execute_result"
    }
   ],
   "source": [
    "moon=filtered_list[(filtered_list['G1G2.G3_Ratio']>2) | (filtered_list['G1G3.G2_Ratio'].values>2) | (filtered_list['G2G3.G1_Ratio'].values>2) ]\n",
    "moon.reset_index(drop=True,inplace=True)\n",
    "moon.shape"
   ]
  },
  {
   "cell_type": "markdown",
   "id": "waiting-logan",
   "metadata": {},
   "source": [
    "Keep only cases where two PCC values are positive and one PCC is negative:"
   ]
  },
  {
   "cell_type": "code",
   "execution_count": 55,
   "id": "expanded-diploma",
   "metadata": {},
   "outputs": [
    {
     "data": {
      "text/plain": [
       "(9144, 13)"
      ]
     },
     "execution_count": 55,
     "metadata": {},
     "output_type": "execute_result"
    }
   ],
   "source": [
    "for i in range (0,len(moon)):\n",
    "    if moon.loc[i,'G1G2_PCC']<0 and moon.loc[i,'G1G3_PCC']<0:\n",
    "        moon.drop(index=i,axis=0,inplace=True)\n",
    "    elif moon.loc[i,'G1G2_PCC']<0 and moon.loc[i,'G2G3_PCC']<0:\n",
    "        moon.drop(index=i,axis=0,inplace=True)\n",
    "    elif moon.loc[i,'G1G3_PCC']<0 and moon.loc[i,'G2G3_PCC']<0:\n",
    "        moon.drop(index=i,axis=0,inplace=True)\n",
    "        \n",
    "moon.reset_index(drop=True,inplace=True)\n",
    "moon.shape"
   ]
  },
  {
   "cell_type": "markdown",
   "id": "instructional-inside",
   "metadata": {},
   "source": [
    "Write another column to specify which one is the moonlighting gene in the trio: "
   ]
  },
  {
   "cell_type": "code",
   "execution_count": 54,
   "id": "indian-earthquake",
   "metadata": {},
   "outputs": [],
   "source": [
    "moon['Moonlighter Gene']=\"\"\n",
    "\n",
    "for i in range (0,len(moon)):\n",
    "    if moon.loc[i,'G1G2_PCC']<0:\n",
    "        moon.loc[i,'Moonlighter Gene']=moon.loc[i,'Gene3']\n",
    "    elif moon.loc[i,'G1G3_PCC']<0:\n",
    "        moon.loc[i,'Moonlighter Gene']=moon.loc[i,'Gene2']\n",
    "    elif  moon.loc[i,'G2G3_PCC']<0:\n",
    "        moon.loc[i,'Moonlighter Gene']=moon.loc[i,'Gene1']\n",
    "        "
   ]
  },
  {
   "cell_type": "markdown",
   "id": "international-extent",
   "metadata": {},
   "source": [
    "Further filter the moonlighting trios such that all ratios are greater than 1.135"
   ]
  },
  {
   "cell_type": "code",
   "execution_count": 44,
   "id": "nasty-yugoslavia",
   "metadata": {},
   "outputs": [
    {
     "data": {
      "text/plain": [
       "(1741, 13)"
      ]
     },
     "execution_count": 44,
     "metadata": {},
     "output_type": "execute_result"
    }
   ],
   "source": [
    "stronger_moons=moon[(moon['G1G2.G3_Ratio']>1.135) & (moon['G1G3.G2_Ratio'].values>1.135) & (moon['G2G3.G1_Ratio'].values>1.135) ]\n",
    "stronger_moons.reset_index(drop=True,inplace=True)\n",
    "stronger_moons.shape"
   ]
  },
  {
   "cell_type": "markdown",
   "id": "working-pencil",
   "metadata": {},
   "source": [
    "Sorting and removing duplicates:\n",
    "\n",
    "Further filtering and duplicate removal can be done if needed"
   ]
  },
  {
   "cell_type": "code",
   "execution_count": 48,
   "id": "registered-fleet",
   "metadata": {},
   "outputs": [],
   "source": [
    "stronger_moons.sort_values(by='Moonlighter Gene')\n",
    "stronger_moons['G1G2_PCC']=stronger_moons['G1G2_PCC'].astype(float).round(4)\n",
    "stronger_moons['G1G3_PCC']=stronger_moons['G1G3_PCC'].astype(float).round(4)\n",
    "stronger_moons['G2G3_PCC']=stronger_moons['G2G3_PCC'].astype(float).round(4)\n"
   ]
  },
  {
   "cell_type": "code",
   "execution_count": 46,
   "id": "characteristic-absorption",
   "metadata": {},
   "outputs": [
    {
     "data": {
      "text/plain": [
       "(1741, 13)"
      ]
     },
     "execution_count": 46,
     "metadata": {},
     "output_type": "execute_result"
    }
   ],
   "source": [
    "stronger_moons.shape"
   ]
  },
  {
   "cell_type": "code",
   "execution_count": 53,
   "id": "fallen-understanding",
   "metadata": {},
   "outputs": [
    {
     "data": {
      "text/plain": [
       "(1403, 13)"
      ]
     },
     "execution_count": 53,
     "metadata": {},
     "output_type": "execute_result"
    }
   ],
   "source": [
    "stronger_moons.drop_duplicates(subset=['Gene1','G2G3_PCC'],inplace=True)\n",
    "stronger_moons.drop_duplicates(subset=['Gene2','G1G3_PCC'],inplace=True)\n",
    "stronger_moons.drop_duplicates(subset=['Gene3','G1G2_PCC'],inplace=True)\n",
    "\n",
    "stronger_moons.reset_index(drop=True,inplace=True)\n",
    "stronger_moons.shape"
   ]
  }
 ],
 "metadata": {
  "kernelspec": {
   "display_name": "Python 3",
   "language": "python",
   "name": "python3"
  },
  "language_info": {
   "codemirror_mode": {
    "name": "ipython",
    "version": 3
   },
   "file_extension": ".py",
   "mimetype": "text/x-python",
   "name": "python",
   "nbconvert_exporter": "python",
   "pygments_lexer": "ipython3",
   "version": "3.8.10"
  }
 },
 "nbformat": 4,
 "nbformat_minor": 5
}
